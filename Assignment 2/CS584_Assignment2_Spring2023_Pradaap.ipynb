{
 "cells": [
  {
   "cell_type": "markdown",
   "metadata": {
    "id": "Z7_hx8SJJR4-"
   },
   "source": [
    "# Assignment 2 - Logistic Regression & Naive Bayes\n",
    "\n",
    "Due by 11:59pm, Feb 24, 2023"
   ]
  },
  {
   "cell_type": "markdown",
   "metadata": {},
   "source": [
    "A20512400\n",
    "\n",
    "\n",
    "Pradaap Shiva Kumar Shobha"
   ]
  },
  {
   "cell_type": "markdown",
   "metadata": {
    "id": "pyGrk2X_J_1h"
   },
   "source": [
    "## Theory Questions (Full points: 40, each question 4 points)"
   ]
  },
  {
   "cell_type": "markdown",
   "metadata": {
    "id": "b8OnMEI0JXxA"
   },
   "source": [
    "1. Explain the importance of setting up learning rate in the gradient descent based methods. "
   ]
  },
  {
   "cell_type": "markdown",
   "metadata": {
    "id": "uv3iz5dBJX7Z"
   },
   "source": [
    "**Answer:**  In gradient descent-based optimization techniques like Stochastic Gradient Descent (SGD), Adagrad, Adam, etc., the learning rate is a crucial hyperparameter. It establishes the size of the step that the optimizer uses to update the model parameters in the direction of the steepest descent. It is crucial to establish the learning rate properly because it has a big impact on how well the model works and how the optimization process works.\n",
    "\n",
    "The optimizer may overshoot the optimal point and fail to converge if the learning rate is set too high. In this situation, the model can fluctuate near the optimum or possibly completely diverge. The optimization process, however, could be extremely slow if the learning rate is too low, and the model may get stuck in a suboptimal local minimum.\n",
    "\n",
    "Thus, it is essential to pick a learning rate that would allow the optimizer to swiftly arrive at a viable solution without overshooting. The learning rate is often determined through trial and error, and a number of strategies, such grid search, random search, or adaptive learning rate methods, can aid in this process.\n",
    "\n",
    "In order to achieve quick convergence and effective model performance, the learning rate is a crucial hyperparameter in gradient descent-based optimization techniques.\n"
   ]
  },
  {
   "cell_type": "markdown",
   "metadata": {
    "id": "wO8kErgCJX-P"
   },
   "source": [
    "2. What is the stochastic gradient descent? Why do we need stochastic gradient descent?"
   ]
  },
  {
   "cell_type": "markdown",
   "metadata": {
    "id": "nEviYAL2JeWs"
   },
   "source": [
    "**Answer:** Stochastic gradient descent (SGD) is a popular optimization technique for training machine learning models. It is a variant of the gradient descent technique that calculates the gradient of the objective function and updates the model parameters using random subsets of the training data known as mini-batches.\n",
    "\n",
    "With big datasets, the traditional gradient descent approach can be computationally expensive and slow because it uses the complete training set to calculate the gradient of the objective function at each iteration. In contrast, stochastic gradient descent computes the gradient using mini-batches of the data, which is faster and more scalable.\n",
    "\n",
    "The algorithm selects a mini-batch of training instances at random from the dataset, computes the gradient of the objective function relative to the model parameters using only the mini-batch, and then modifies the model parameters depending on the computed gradient. Iterations of this method are carried out till convergence.\n",
    "\n",
    "The application of stochastic gradient descent has various advantages. First off, since the gradient can be computed more quickly with mini-batches, it enables faster model training, especially for large datasets. Second, since the model is updated more frequently and is based on smaller samples of data, it can aid in preventing overfitting. Last but not least, stochastic gradient descent can be more successful at locating global optima since the noise brought on by randomness of the mini-batches can help the algorithm escape local optima."
   ]
  },
  {
   "cell_type": "markdown",
   "metadata": {
    "id": "9vQD3sgwJYBS"
   },
   "source": [
    "3. Explain the reasons to perform feature scaling."
   ]
  },
  {
   "cell_type": "markdown",
   "metadata": {
    "id": "t-e37RdDJfmd"
   },
   "source": [
    "**Answer:** The process of scaling or leveling the values of various features in a dataset to a comparable scale is known as feature scaling. Before using specific machine learning algorithms on the data, this is frequently carried out. Following are some explanations for the significance of feature scaling:\n",
    "\n",
    "1. Preventing bias: Several machine learning methods, such K-nearest neighbors and clustering algorithms, are dependent on the estimation of distances between data points. If the features are scaled differently, some features with higher values may dominate the outcome and have a stronger impact on how distances are calculated, leading to biased models.\n",
    "\n",
    "2. Enhancing model performance: When the features are scaled, some machine learning techniques, like logistic regression and support vector machines, converge more quickly. Scaling features can also help to improve the accuracy of the models.\n",
    "\n",
    "3. Facilitating visualization: It can be challenging to visualize the data successfully if the features are on different scales. In order to plot the features and find patterns in the data, scaling the features can help to bring them to a comparable scale.\n",
    "\n",
    "4. Normalizing features: When features have various ranges, the model may place more weight on the highest-valued features, even if those features aren't always the most informative. The importance assigned to each feature is more in line with their actual contribution to the outcome by normalizing features.\n",
    "\n",
    "In conclusion, feature scaling is a critical stage in getting data ready for machine learning. It can normalize features, enhance model performance, make visualization easier, and avoid bias, all of which can lead to better results.\n"
   ]
  },
  {
   "cell_type": "markdown",
   "metadata": {
    "id": "dOqhvEpuJYEX"
   },
   "source": [
    "4. What is the probabilistic generative model?"
   ]
  },
  {
   "cell_type": "markdown",
   "metadata": {
    "id": "rf5JjDFDJe6G"
   },
   "source": [
    "**Answer:** A statistical model known as a probabilistic generative model can be used to visualize the probability distribution of a collection of observations. It is a model that specifically enables us to generate (hence the term \"generative\") new data points that are comparable to those in the initial set.\n",
    "\n",
    "In a generative model, we presume that the observed data are the result of some underlying process, and we aim to describe that process in order to produce new data points. For instance, in the straightforward scenario where a collection of data points exhibits a normal distribution, we might employ a generative model to calculate the mean and variance of the distribution.Once these values have been determined, we can use the model to produce fresh data that is also normally distributed.\n",
    "\n",
    "Applications for probabilistic generative models include speech and image identification, natural language processing, among many other areas. Gaussian mixture models, hidden Markov models, and Bayesian networks are a few examples of typical generative models."
   ]
  },
  {
   "cell_type": "markdown",
   "metadata": {
    "id": "W8V802XDJjxe"
   },
   "source": [
    "5. Explain how we perform maximum likelihood."
   ]
  },
  {
   "cell_type": "markdown",
   "metadata": {
    "id": "S3PrgB7kJl99"
   },
   "source": [
    "**Answer:** The parameters of a statistical model are estimated using the maximum likelihood technique in statistics. Finding the model parameter values that increase the probability that the observed data was produced by the model is the aim of maximum likelihood.\n",
    "\n",
    "The general steps to execute maximum likelihood are as follows:\n",
    "\n",
    "\n",
    "1. Define the likelihood function: The likelihood function, which depicts the likelihood of the observed data given the model parameters, is defined as a function of the model parameters. L(theta | x), where theta is the vector of model parameters and x is the vector of recorded data, is a common way to refer to the likelihood function.\n",
    "\n",
    "2. Take the natural logarithm of the likelihood function: This is done to simplify the mathematics of optimization.\n",
    "\n",
    "3. Maximize the log-likelihood function: The goal is to find the values of the model parameters that maximize the log-likelihood function. This can be accomplished using a variety of optimization methods, including Newton's method and gradient descent.\n",
    "\n",
    "4. Check for convergence: It is important to check that the optimization algorithm has converged to a maximum. This can be accomplished by examining the gradient of the log-likelihood function to see if it is near to zero or by observing how the log-likelihood function changes over time.\n",
    "\n",
    "5. Interpreting the outcomes: Once the model's parameters have been estimated with the greatest degree of certainty, predictions or inferences about the fundamental process that produced the data can be made using these estimates.\n"
   ]
  },
  {
   "cell_type": "markdown",
   "metadata": {
    "id": "3kUcM98LJj9N"
   },
   "source": [
    "6. Explain the reasons about using cross entropy loss in logistic regression."
   ]
  },
  {
   "cell_type": "markdown",
   "metadata": {
    "id": "xuECRF2PJk81"
   },
   "source": [
    "**Answer:** Logistic regression is a popular statistical model used for binary classification problems, where the goal is to predict the probability of an event occurring. Cross-entropy loss, also known as log loss, is a commonly used loss function for training logistic regression models.\n",
    "\n",
    "Cross-entropy loss is a measure of the discrepancy between the true class labels and the projected probabilities, which is why it is used in logistic regression. With a greater penalty for predictions that are further from the genuine class labels, the cross-entropy loss punishes the model for producing false predictions.\n",
    "\n",
    "The cross-entropy loss for a binary logistic regression model can be expressed mathematically as:\n",
    "\n",
    "> L(y, ŷ) = -[ylog(ŷ) + (1-y)log(1-ŷ)]\n",
    "\n",
    "where y is the true class label (0 or 1) and ŷ is the predicted probability of the positive class (i.e., the class label 1). The log function is used to transform the predicted probabilities into a logarithmic scale, which helps to penalize the model more heavily for predictions that are further from the true class labels.\n",
    "\n",
    "Cross entropy between two Bernoulli distribution can be mathematically defined as -\n",
    ">\n",
    "> $𝑙(𝑓(𝑥^𝑛 ),𝑦 ̂^𝑛 ) = −[𝑦 ̂^𝑛 𝑙𝑛𝑓(𝑥^𝑛 )+(1−𝑦 ̂^𝑛 )𝑙𝑛(1−𝑓(𝑥^𝑛))]$\n",
    ">\n",
    "> $\\sum = \\sum_{𝑛} −[𝑦 ̂^𝑛 𝑙𝑛𝑓_{𝑤,𝑏} (𝑥^𝑛 )+(1−𝑦 ̂^𝑛 )𝑙𝑛(1−𝑓_{𝑤,𝑏} (𝑥^𝑛))] $\n",
    "\n",
    "Using cross-entropy loss has the benefit of helping to keep the model from becoming stuck in local optima during training. This is because gradient-based optimization techniques may discover the global minimum because the loss function is smooth and differentiable.\n",
    "\n",
    "In general, the purpose of cross-entropy loss in logistic regression is to determine the optimal set of model parameters to minimize the gap between the projected probability and the actual class labels."
   ]
  },
  {
   "cell_type": "markdown",
   "metadata": {
    "id": "q8bCRVRaJkBP"
   },
   "source": [
    "7. Explain the differences between discriminative and generative model.\n"
   ]
  },
  {
   "cell_type": "markdown",
   "metadata": {
    "id": "YEdAdRiu1ksO"
   },
   "source": [
    "**Answer:** Discriminative and generative models are two different types of machine learning models that are used for different purposes. The main differences between these two models are:\n",
    "\n",
    "1. Purpose: Discriminative models are used to directly learn the boundary between classes, whereas generative models learn the probability distribution of each class and use it to classify new instances.\n",
    "\n",
    "2. Data requirements: Generative models can learn from unlabeled data while discriminative models need labeled data for training.\n",
    "\n",
    "3. Decision boundary: Generative models simulate the whole probability distribution of each class, whereas discriminative models merely simulate the decision boundary between classes.\n",
    "\n",
    "4. Output: Discriminative models output the conditional probability of the class given the input, while generative models output the joint probability of the input and the class.\n",
    "\n",
    "5. Performance: When it comes to classification tasks, discriminative models perform generally better than generative models, especially when there is a large amount of training data available. Generative models, however, might be advantageous for tasks like data production and anomaly detection.\n",
    "\n",
    "Examples of discriminative models include neural networks, logistic regression, and support vector machines (SVMs). Gaussian mixture models, Naive Bayes, and Hidden Markov Models are a few examples of generative models (HMMs).\n",
    "\n",
    "In conclusion, generative models learn the probability distribution of each class and utilize it to classify fresh examples, whereas discriminative models learn the border between classes directly from the data. While generative models are helpful for activities like data generation and anomaly detection, discriminative models are superior for classification tasks."
   ]
  },
  {
   "cell_type": "markdown",
   "metadata": {
    "id": "dcZpkIc01Rwe"
   },
   "source": [
    "8. What is N-folds? Explain the reasons why we need N-folds. "
   ]
  },
  {
   "cell_type": "markdown",
   "metadata": {
    "id": "R2KIVplzJlYt"
   },
   "source": [
    "**Answer:** N-folds refers to a technique used in machine learning and data analysis to evaluate the performance of a model by splitting the data into N equally-sized subsets, or \"folds\". Then, each fold is used as the test set once and the remaining folds as the training set as the model is trained and tested N times. A single performance statistic, such as accuracy or mean squared error, is created by averaging the results.\n",
    "\n",
    "N-folds are utilized in data analysis and machine learning for a number of purposes, including:\n",
    "\n",
    "1. Improved use of data: The data is divided into smaller, easier-to-manage subsets using N-folds, which can be used more effectively for model training and testing.\n",
    "\n",
    "2. Minimize overfitting: When a model is overly complex and trained to fit the noise in the training data instead of the underlying patterns, overfitting takes place. N-folds allow the model to be trained and tested on several subsets of the data, which can assist reduce overfitting.\n",
    "\n",
    "3. Improved performance estimation: N-folds, which average the outcomes across numerous evaluations, offer a more precise measure of a model's performance. This lessens the effect of noise and random variations in the data.\n",
    "\n",
    "4. Robustness: N-folds can assess a model's performance on several data subsets to determine its stability and robustness.\n",
    "\n",
    "N-folds are an effective method for assessing the effectiveness of machine learning models and for enhancing their accuracy and resilience."
   ]
  },
  {
   "cell_type": "markdown",
   "metadata": {
    "id": "RCL0MZN6JkET"
   },
   "source": [
    "9. Bishop's Book \"Pattern Recognition and Machine learning\" - Exercise 4.12"
   ]
  },
  {
   "cell_type": "markdown",
   "metadata": {
    "id": "M-h519EbJmbz"
   },
   "source": [
    "To verify the relation (4.88) for the derivative of the logistic sigmoid func-\n",
    "tion defined by (4.59)\n",
    "\n",
    "\n",
    "**Answer:**  \n",
    "\n",
    "\n",
    "Given:\n",
    "> $\\frac {d\\sigma}{da} = \\sigma(1 − \\sigma)$ ............ (Equation 4.88)\n",
    "\n",
    "\n",
    "> $\\sigma(a) = \\frac {1}{1 +  e^{−a}}$ ..............(Equation 4.59)\n",
    "\n",
    "\n",
    "differentiating (4.59) we obtain,\n",
    "\n",
    "> $ \\frac {d\\sigma}{da} =\\frac {e^{−a}} {(1 + e^{-a})^2}$\n",
    "\n",
    "> $ = \\sigma(a) [\\frac {e^{−a}} {1 + e^{-a}} ]$\n",
    "\n",
    "> $ = \\sigma(a) [ \\frac {1 + e^{−a}} {1 + e^{-a}} - \\frac {1} {1 + e^{-a}} ]$\n",
    "\n",
    "> $ = \\sigma(a)(1 − \\sigma(a))$\n"
   ]
  },
  {
   "cell_type": "markdown",
   "metadata": {
    "id": "4_JyVbXB0LSH"
   },
   "source": [
    "10. Bishop's Book \"Pattern Recognition and Machine learning\" - Exercise 4.13"
   ]
  },
  {
   "cell_type": "markdown",
   "metadata": {
    "id": "8JYA083y0Z7Q"
   },
   "source": [
    "By making use of the result (4.88) for the derivative of the logistic sigmoid, show that the derivative of the error function (4.90) for the logistic regression model is given by (4.91).\n",
    "\n",
    "**Answer:** \n",
    "Given :\n",
    "\n",
    "> $\\frac {d\\sigma}{da} = \\sigma(1 − \\sigma)$ ............ (Equation 4.88)\n",
    "\n",
    "> $E(w) = − ln p(t|w) = − \\sum_{n=1}^N {[t_n ln y_n + (1 − t_n) ln(1 − y_n)]}$  ........... (Equation 4.90)\n",
    "\n",
    "> $ ∇E(w) = \\sum_{n=1}^N (y_n − t_n) \\phi_n $  ........... (Equation 4.91)\n",
    "\n",
    "\n",
    "differentiate (4.90) w.r.t. $y_n$, we get :\n",
    "\n",
    "> $\\frac {\\partial E} {\\partial y_n} = \\frac{1 − t_n}{1 − y_n} - \\frac {t_n}{y_n}$\n",
    "\n",
    "> $ = \\frac {y_n(1 − t_n) − t_n(1 − y_n)}{y_n(1 − y_n)}$\n",
    "\n",
    "> $ = \\frac {y_n − y_n t_n − t_n + y_n t_n}{y_n(1 − y_n)}$\n",
    "\n",
    "> $ = \\frac {y_n − t_n}{y_n(1 − y_n)}$\n",
    "\n",
    "\n",
    "From the previous solution, we get :\n",
    "\n",
    "> $\\frac{\\partial y_n}{\\partial a_n}$ = $\\frac{\\partial σ(a_n)}{\\partial a_n}$ = σ($a_n$)(1 - σ($a_n$)) = $y_n(1-y_n)$\n",
    "\n",
    "Since,\n",
    "\n",
    "> $∇ a_n$ = $Φ a_n$,  where $∇$ denotes the gradient with respect to w. \n",
    "\n",
    "Using the chain rule, we get:\n",
    "\n",
    "> $∇E$ = $\\sum_{n=1}^{N}$ $\\frac{\\partial E}{\\partial y_n}$ $\\frac{\\partial y_n}{\\partial a_n}$ $∇a_n$\n",
    "\n",
    "> = $\\sum_{n=1}^{N}(y_n-t_n)Φ_n$"
   ]
  },
  {
   "cell_type": "markdown",
   "metadata": {
    "id": "8AiWTVDf7cZ2"
   },
   "source": [
    "## Programming Questions (Full points: 60, each question 30 points)"
   ]
  },
  {
   "cell_type": "code",
   "execution_count": 1,
   "metadata": {
    "id": "hUXdV3L376cA"
   },
   "outputs": [],
   "source": [
    "# Do not edit the codes in this cell\n",
    "# load required library\n",
    "import matplotlib.pyplot as plt\n",
    "import numpy as np\n",
    "from sklearn.datasets import load_wine\n",
    "# load dataset\n",
    "x, y = load_wine(return_X_y=True)"
   ]
  },
  {
   "cell_type": "markdown",
   "metadata": {
    "id": "8iwaee_T-Urj"
   },
   "source": [
    "### - Logistic Regression"
   ]
  },
  {
   "cell_type": "markdown",
   "metadata": {
    "id": "zyrt2Ka7VFYK"
   },
   "source": [
    "0. train_test_split (Done in the below cell)\n",
    "\n",
    "We **randomly** split data into train and test set. The number of training data and testing data is 100 and 30, respectively. Do not modify the split data. You need to use training data to train your model and obtain an optimal solution. Finally, using your model with the optimal solution to predict the testing data. "
   ]
  },
  {
   "cell_type": "code",
   "execution_count": 2,
   "metadata": {
    "id": "9M1DAu9XPY8E"
   },
   "outputs": [],
   "source": [
    "# Do not edit the codes in this cell\n",
    "# We split train and test data for logistic regression function\n",
    "\n",
    "test_lists = [0, 4, 5, 7, 13, 15, 19, 27, 28, 30, 31, 34, 39, 47, 63, 74, 78, 83, 90, 92, 95, 97, 103, 113, 119, 122, 123, 125, 126, 127]\n",
    "\n",
    "x = x[:130, :]\n",
    "y = y[:130]\n",
    "\n",
    "# training data: you can use it to training your model.\n",
    "train_x = np.array([sub_x for index, sub_x in enumerate(x) if index not in test_lists])\n",
    "train_y = np.array([sub_y for index, sub_y in enumerate(y) if index not in test_lists])\n",
    "\n",
    "# testing data: ONLY use it to measure your model, do NOT use during training.\n",
    "test_x = np.array([sub_x for index, sub_x in enumerate(x) if index in test_lists])\n",
    "test_y = np.array([sub_y for index, sub_y in enumerate(y) if index in test_lists])"
   ]
  },
  {
   "cell_type": "markdown",
   "metadata": {
    "id": "4LdQ5yubLJld"
   },
   "source": [
    "In the assignment 2, you have more freedom on your programming design. In this part, you are going to implement your own Logistic Regression function. You need to implement logistic regression with stochastic gradient descent from scratch. The required functions are listed below. You can add more functions as you need. **No library versions of logistic regression are allowed**. \n",
    "_________\n",
    "\n",
    "1. train_val_split\n",
    "\n",
    "**Randomly** split training data into train and val set. 80% of the training data will be the train set and 20% of the training data will be the val set.\n",
    "\n",
    "2. normalization (data preprocessing)\n",
    "\n",
    "You should normalize all data for each attribute firstly. \n",
    "\n",
    "3. sigmoid\n",
    "\n",
    "The core of logistic regression\n",
    "\n",
    "4. predict\n",
    "\n",
    "Predict an output value for a given x with a set of coefficients. \n",
    "\n",
    "5. accurate\n",
    "\n",
    "Calculate accuracy percentage of the predictions.\n",
    "\n",
    "6. coef_gd\n",
    "\n",
    "Estimate logistic regression coefficients using **vanilla gradient descent**. Using **the cross entropy loss**. Carefully choose learning rate and epochs values.\n",
    "\n",
    "7. draw_model\n",
    "\n",
    "a) Plot the both training loss and validation loss for each epochs.\n",
    "\n",
    "b) Plot the both training accuracy and validation accuracy for each epochs. \n",
    "\n",
    "8. predict the testing data\n",
    "\n",
    "Use your pre-trained model to predict the testing data. Print out your **testing accurate**. Is it good? If not, analyze the reason in short and modify your code to improve.  \n"
   ]
  },
  {
   "cell_type": "code",
   "execution_count": 3,
   "metadata": {
    "id": "6AHamaj3f5xY"
   },
   "outputs": [],
   "source": [
    "def train_val_split(x, y, split_ratio=0.8):\n",
    "    np.random.seed(42)\n",
    "    indexes = np.arange(len(x))\n",
    "    np.random.shuffle(indexes)\n",
    "    split_index = int(split_ratio * len(x))\n",
    "    x_train, y_train = x[indexes[:split_index]], y[indexes[:split_index]]\n",
    "    x_val, y_val = x[indexes[split_index:]], y[indexes[split_index:]]\n",
    "    return x_train, y_train, x_val, y_val"
   ]
  },
  {
   "cell_type": "code",
   "execution_count": 4,
   "metadata": {},
   "outputs": [],
   "source": [
    "def normalization(x):\n",
    "    x_mean = np.mean(x, axis=0)\n",
    "    x_std = np.std(x, axis=0)\n",
    "    x_norm = (x - x_mean) / x_std\n",
    "    return x_norm"
   ]
  },
  {
   "cell_type": "code",
   "execution_count": 5,
   "metadata": {},
   "outputs": [],
   "source": [
    "def sigmoid(z):\n",
    "    return 1.0 / (1.0 + np.exp(-z))"
   ]
  },
  {
   "cell_type": "code",
   "execution_count": 6,
   "metadata": {},
   "outputs": [],
   "source": [
    "def predict(x, coefficients):\n",
    "    return sigmoid(np.dot(x, coefficients))"
   ]
  },
  {
   "cell_type": "code",
   "execution_count": 7,
   "metadata": {},
   "outputs": [],
   "source": [
    "def accurate(y_true, y_pred):\n",
    "    #print(\"y_true\", y_true)\n",
    "    #print(\"y_pred\", y_pred)\n",
    "    correct = 0\n",
    "    for i in range(len(y_true)):\n",
    "        if y_true[i] == y_pred[i]:\n",
    "            correct += 1\n",
    "    acc = correct / len(y_true) * 100.0\n",
    "    return acc"
   ]
  },
  {
   "cell_type": "code",
   "execution_count": 8,
   "metadata": {},
   "outputs": [],
   "source": [
    "def cross_entropy_loss(x, y, coefficients):\n",
    "   y_pred = predict(x, coefficients)\n",
    "   loss = -1 * np.mean(y * np.log(y_pred) + (1 - y) * np.log(1 - y_pred))\n",
    "   return loss"
   ]
  },
  {
   "cell_type": "code",
   "execution_count": 9,
   "metadata": {},
   "outputs": [],
   "source": [
    "def gradient_descent(train_x, train_y, val_x, val_y, learning_rate, epochs):\n",
    "    # initialize coefficients\n",
    "    n_features = train_x.shape[1]\n",
    "    coefficients = np.zeros(n_features)\n",
    "    train_loss = []\n",
    "    val_loss = []\n",
    "    train_acc = []\n",
    "    val_acc = []\n",
    "    for epoch in range(epochs):\n",
    "        data = np.column_stack((train_x, train_y))\n",
    "        np.random.shuffle(data)\n",
    "        x = data[:,:-1]\n",
    "        y = data[:,-1] \n",
    "        # update coefficients for each sample\n",
    "        for i in range(len(x)):\n",
    "            y_pred = predict(x[i], coefficients)\n",
    "            error = y[i] - y_pred\n",
    "            coefficients += learning_rate * error * y_pred * (1 - y_pred) * x[i]\n",
    "        # calculate loss and accuracy for train and val set\n",
    "        train_loss.append(cross_entropy_loss(train_x, train_y, coefficients))\n",
    "        val_loss.append(cross_entropy_loss(val_x, val_y, coefficients))\n",
    "        train_acc.append(accurate(train_y, np.round(predict(train_x, coefficients))))\n",
    "        val_acc.append(accurate(val_y, np.round(predict(val_x, coefficients))))\n",
    "        #print(\"Train Acc: \",train_acc)\n",
    "        #print(\"Validation Acc: \", val_acc)\n",
    "    return coefficients, train_loss, val_loss, train_acc, val_acc\n"
   ]
  },
  {
   "cell_type": "code",
   "execution_count": 10,
   "metadata": {},
   "outputs": [],
   "source": [
    "def draw_model(train_x, train_y, learning_rate, epochs):\n",
    "    # perform train and validation split\n",
    "    train_x, train_y, val_x, val_y = train_val_split(train_x, train_y)\n",
    "    #print(\"Train x:\", train_x)\n",
    "    #print(\"Train y:\", train_y)\n",
    "    #print(\"Val x:\", val_x)\n",
    "    #print(\"Val y:\", val_y)\n",
    "    # normalize the data\n",
    "    train_x = normalization(train_x)\n",
    "    val_x = normalization(val_x)\n",
    "    #train_y = normalization(train_y)\n",
    "    #val_y = normalization(val_y)\n",
    "    # train the model\n",
    "    coefficients, train_loss, val_loss, train_acc, val_acc = gradient_descent(train_x, train_y, val_x, val_y, learning_rate, epochs)\n",
    "    \n",
    "    fig, axs = plt.subplots(1, 2, figsize=(12, 4))\n",
    "\n",
    "    # plot loss vs epoch\n",
    "    axs[0].plot(range(epochs), train_loss, label='Training Loss')\n",
    "    axs[0].plot(range(epochs), val_loss, label='Validation Loss')\n",
    "    axs[0].set_xlabel('Epochs')\n",
    "    axs[0].set_ylabel('Loss')\n",
    "    axs[0].set_title('Loss vs Epochs')\n",
    "    axs[0].legend()\n",
    "\n",
    "    # plot accuracy vs epoch\n",
    "    axs[1].plot(range(epochs), train_acc, label='Training Accuracy')\n",
    "    axs[1].plot(range(epochs), val_acc, label='Validation Accuracy')\n",
    "    axs[1].set_xlabel('Epochs')\n",
    "    axs[1].set_ylabel('Accuracy')\n",
    "    axs[1].set_title('Accuracy vs Epochs')\n",
    "    axs[1].legend()\n",
    "\n",
    "    plt.show()\n"
   ]
  },
  {
   "cell_type": "code",
   "execution_count": 11,
   "metadata": {},
   "outputs": [
    {
     "data": {
      "image/png": "[encoded data removed]",
      "text/plain": [
       "<Figure size 1200x400 with 2 Axes>"
      ]
     },
     "metadata": {},
     "output_type": "display_data"
    }
   ],
   "source": [
    "draw_model(train_x, train_y, learning_rate = 0.01, epochs = 1000)"
   ]
  },
  {
   "cell_type": "code",
   "execution_count": 12,
   "metadata": {},
   "outputs": [],
   "source": [
    "def test_model(train_x, train_y, test_x, test_y, learning_rate, epochs):   \n",
    "    # normalize the data\n",
    "    train_x = normalization(train_x)\n",
    "    test_x = normalization(test_x)\n",
    "    \n",
    "    # train the model\n",
    "    coefficients, train_loss, val_loss, train_acc, val_acc = gradient_descent(train_x, train_y, test_x, test_y, learning_rate, epochs)\n",
    "    \n",
    "    print(\"Coefficients:\", coefficients)\n",
    "    # print(\"Test_x\", test_x)\n",
    "    \n",
    "    # predict on test set\n",
    "    y_pred = predict(test_x, coefficients)\n",
    "    \n",
    "    #print(\"test_y:\", test_y)    \n",
    "    #print(\"yPred:\", y_pred)  \n",
    "    #print(\"yPred:\", np.round(y_pred))\n",
    " \n",
    "    # calculate accuracy\n",
    "    acc = accurate(test_y, np.round(y_pred))\n",
    "    print('Testing Accuracy:', acc)"
   ]
  },
  {
   "cell_type": "code",
   "execution_count": 13,
   "metadata": {},
   "outputs": [
    {
     "name": "stdout",
     "output_type": "stream",
     "text": [
      "Coefficients: [-1.81344835 -0.7316239  -1.15255342  1.62722131 -0.41767908  0.15127449\n",
      " -0.35685287  0.1215787  -0.02873144 -0.77525702  0.262483   -0.72935991\n",
      " -2.29893143]\n",
      "Testing Accuracy: 100.0\n"
     ]
    }
   ],
   "source": [
    "test_model(train_x, train_y, test_x, test_y, learning_rate = 0.01, epochs = 1000)"
   ]
  },
  {
   "cell_type": "markdown",
   "metadata": {},
   "source": [
    "We are obtaining logistic regression model accuracy of more than 90%, which is regarded high; nevertheless, if the model accuracy is not good, the explanation is frequently, but not always, features scaling, training and testing set randomness, and so on."
   ]
  },
  {
   "cell_type": "markdown",
   "metadata": {
    "id": "7eNsYoFL7pOG"
   },
   "source": [
    "### - Naive Bayes Classifier"
   ]
  },
  {
   "cell_type": "markdown",
   "metadata": {
    "id": "HTuXPz9V8jIA"
   },
   "source": [
    "In this part, you are going to implement your own naive bayes classifier. \n",
    "You need to implement naive bayes classifier from scratch **using the training data of wine datasets train_x and train_y**. The required functions are listed below. You can add more functions as you need. **No library versions of naive bayes classifier are allowed**. \n",
    "_________\n",
    "\n",
    "1. train_val_split\n",
    "\n",
    "**Randomly** split training data into train and val set. 80% of the training data will be the train set and 20% of the training data will be the val set.\n",
    "\n",
    "2. normalization (data preprocessing)\n",
    "\n",
    "You should normalize all data for each attribute firstly. \n",
    "\n",
    "3. cross_validation_split\n",
    "\n",
    "**Randomly** split data into 5 folds.\n",
    "\n",
    "\n",
    "4. predict\n",
    "\n",
    "Predict the class label for a given x. \n",
    "\n",
    "5. accurate\n",
    "\n",
    "Calculate accuracy percentage of the predictions. Remember to average the results of k folds\n",
    "\n",
    "6. gaussian_probability\n",
    "\n",
    "Calculate the Gaussian probability distribution function for the given x. \n",
    "\n",
    "![Image_20210920015911.png](data:image/png;base64,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)\n",
    "\n",
    "\n",
    "5. class_probability\n",
    "\n",
    "Calculate the probabilities of predicting each class for a given x using naive bayes algorithm. Be aware that we have multiple input variables. And you may want to use gaussian_probability function here.\n",
    "\n",
    "*Print out your accuracy result. Is it good? If not, analyze the reason in short. *\n"
   ]
  },
  {
   "cell_type": "code",
   "execution_count": 14,
   "metadata": {},
   "outputs": [],
   "source": [
    "def train_val_split(x, y, split_ratio=0.8):\n",
    "    np.random.seed(42)\n",
    "    indexes = np.arange(len(x))\n",
    "    np.random.shuffle(indexes)\n",
    "    split_index = int(split_ratio * len(x))\n",
    "\n",
    "    x_train, y_train = x[indexes[:split_index]], y[indexes[:split_index]]\n",
    "    x_val, y_val = x[indexes[split_index:]], y[indexes[split_index:]]\n",
    "\n",
    "    return x_train, y_train, x_val, y_val"
   ]
  },
  {
   "cell_type": "code",
   "execution_count": 15,
   "metadata": {},
   "outputs": [],
   "source": [
    "def normalization(x):\n",
    "    x_mean = np.mean(x, axis=0)\n",
    "    x_std = np.std(x, axis=0)\n",
    "    return (x - x_mean) / x_std"
   ]
  },
  {
   "cell_type": "code",
   "execution_count": 16,
   "metadata": {
    "id": "f-jO9XrADS92"
   },
   "outputs": [],
   "source": [
    "def cross_validation_split(x, k_folds):\n",
    "  featureLength = len(x)      \n",
    "  splitIndex = featureLength * (k_folds-1) // k_folds\n",
    "  np.random.shuffle(x)        \n",
    "  x_train = x[0 : splitIndex] \n",
    "  x_test = x[splitIndex : featureLength]\n",
    "  return x_train, x_test"
   ]
  },
  {
   "cell_type": "code",
   "execution_count": 17,
   "metadata": {},
   "outputs": [],
   "source": [
    "def mean_derivation(x):\n",
    "  meanDerivation = np.zeros((3, 4))\n",
    "  for i in np.unique(x[:,0]):\n",
    "    temp = x[np.where(x[:,0] == i)]\n",
    "    meanDerivation[int(i)] =(np.mean(temp[:,1]), np.mean(temp[:,2]), np.mean(temp[:,3]), np.mean(temp[:,4]))\n",
    "  return meanDerivation"
   ]
  },
  {
   "cell_type": "code",
   "execution_count": 18,
   "metadata": {},
   "outputs": [],
   "source": [
    "def variance_derivation(x):\n",
    "  variance = np.zeros((3, 4)) \n",
    "  for i in np.unique(x[:,0]):\n",
    "    temp = x[np.where(x[:,0] == i)]\n",
    "    variance[int(i)] =(np.var(temp[:,1]), np.var(temp[:,2]), np.var(temp[:,3]), np.var(temp[:,4]))\n",
    "  return variance"
   ]
  },
  {
   "cell_type": "code",
   "execution_count": 19,
   "metadata": {},
   "outputs": [],
   "source": [
    "def gaussian_probability(x):\n",
    "  class_prob = class_probability(x)\n",
    "  meanDerivation = mean_derivation(x)\n",
    "  variance = variance_derivation(x)\n",
    "  likelihood = np.zeros((len(x_train), 3))  \n",
    "  for i in range(len(x)):\n",
    "    for  cls in np.unique(x[:,0]):\n",
    "      cls = int(cls)\n",
    "      g1 = (1 / (np.sqrt(2 * np.pi) * variance[cls][0])) *  np.exp(-((x[i][1] - meanDerivation[cls][0])**2 / (2 * variance[cls][0]**2 )))\n",
    "      g2 = (1 / (np.sqrt(2 * np.pi) * variance[cls][1])) *  np.exp(-((x[i][2] - meanDerivation[cls][1])**2 / (2 * variance[cls][1]**2 )))\n",
    "      g3 = (1 / (np.sqrt(2 * np.pi) * variance[cls][2])) *  np.exp(-((x[i][3] - meanDerivation[cls][2])**2 / (2 * variance[cls][2]**2 )))\n",
    "      g4 = (1 / (np.sqrt(2 * np.pi) * variance[cls][3])) *  np.exp(-((x[i][4] - meanDerivation[cls][3])**2 / (2 * variance[cls][3]**2 )))\n",
    "      likelihood[i][cls] = g1* g2 * g3 * g4\n",
    "  return likelihood"
   ]
  },
  {
   "cell_type": "code",
   "execution_count": 20,
   "metadata": {},
   "outputs": [],
   "source": [
    "def class_probability(x):\n",
    "  x_data = x_train\n",
    "  y_prev = []\n",
    "  for i in np.unique(x_data[:,0]):\n",
    "    count = np.count_nonzero(x_data == i, axis=0)\n",
    "    y_prev.append(count[0]/len(x_data))\n",
    "  return y_prev"
   ]
  },
  {
   "cell_type": "code",
   "execution_count": 21,
   "metadata": {},
   "outputs": [],
   "source": [
    "def predict(x_train):\n",
    "  likelihood = gaussian_probability(x_train)\n",
    "  y_pred = []\n",
    "  initial_prob = np.ones((len(x_train), 1))\n",
    "  class_prob = class_probability(x)\n",
    "  new_prob = -1\n",
    "  label = None\n",
    "  for i in range(len(x_train)):\n",
    "    new_prob = -1\n",
    "    for j in range(len(class_prob)):\n",
    "      initial_prob[j] = likelihood[i][j] * class_prob[j] \n",
    "      if initial_prob[j] > new_prob:\n",
    "        new_prob = initial_prob[j]\n",
    "        label = j\n",
    "    y_pred.append(label)\n",
    "\n",
    "  return y_pred"
   ]
  },
  {
   "cell_type": "code",
   "execution_count": 22,
   "metadata": {},
   "outputs": [],
   "source": [
    "def accurate(actual, predicted):\n",
    "  actual = actual.astype(int) \n",
    "  correct = 0\n",
    "  for i in range(len(actual)):\n",
    "    if actual[i] == predicted[i]:\n",
    "      correct += 1\n",
    "  acc = correct / float(len(actual)) * 100.0\n",
    "  return acc"
   ]
  },
  {
   "cell_type": "code",
   "execution_count": 23,
   "metadata": {},
   "outputs": [
    {
     "name": "stdout",
     "output_type": "stream",
     "text": [
      "Predicted classes are:  [0, 0, 0, 1, 0, 1, 1, 1, 1, 0, 1, 0, 0, 1, 1, 0, 1, 1, 1, 1, 0, 1, 1, 1, 1, 0]\n",
      "\n",
      "Accuracy: 96.15 %\n",
      "\n",
      "Class probabilities:  [0.46153846153846156, 0.5384615384615384]\n",
      "\n"
     ]
    }
   ],
   "source": [
    "# normalize the data\n",
    "x = normalization(x)\n",
    "\n",
    "#1. Cross_validation_split\n",
    "input_x = merged_array = np.column_stack((y, x))\n",
    "#print(input_x)\n",
    "k_folds = 5\n",
    "x_train, x_test = cross_validation_split(input_x, k_folds)\n",
    "\n",
    "#2. Prediction\n",
    "predition = predict(x_test)\n",
    "print('Predicted classes are: ',predition)\n",
    "\n",
    "#3. Accuracy of the model\n",
    "print()\n",
    "print('Accuracy: %.2f %%' % accurate(x_test[:, :1], predition))\n",
    "\n",
    "#4. Class probability \n",
    "print()\n",
    "print('Class probabilities: ',class_probability(x_test))\n",
    "\n",
    "#5. Gaussian_probability \n",
    "print()\n",
    "Gaussian_probability = gaussian_probability(x_test)\n",
    "#print('Gaussian_probability ',gaussian_probability(x_test))"
   ]
  },
  {
   "cell_type": "markdown",
   "metadata": {},
   "source": [
    "Our naïve bayes model accuracy is over 90%, which can be regarded as good; however, if the model accuracy is subpar, features are often, but not always, the underlying cause."
   ]
  },
  {
   "cell_type": "code",
   "execution_count": null,
   "metadata": {},
   "outputs": [],
   "source": []
  }
 ],
 "metadata": {
  "colab": {
   "provenance": []
  },
  "kernelspec": {
   "display_name": "Python 3 (ipykernel)",
   "language": "python",
   "name": "python3"
  },
  "language_info": {
   "codemirror_mode": {
    "name": "ipython",
    "version": 3
   },
   "file_extension": ".py",
   "mimetype": "text/x-python",
   "name": "python",
   "nbconvert_exporter": "python",
   "pygments_lexer": "ipython3",
   "version": "3.9.13"
  },
  "pycharm": {
   "stem_cell": {
    "cell_type": "raw",
    "metadata": {
     "collapsed": false
    },
    "source": []
   }
  }
 },
 "nbformat": 4,
 "nbformat_minor": 1
}
